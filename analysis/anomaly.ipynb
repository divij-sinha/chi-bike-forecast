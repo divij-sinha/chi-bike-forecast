{
 "cells": [
  {
   "cell_type": "code",
   "execution_count": 1,
   "metadata": {},
   "outputs": [],
   "source": [
    "import pandas as pd\n",
    "from matplotlib import pyplot as plt\n",
    "from statsmodels.tsa.stattools import kpss, adfuller\n",
    "from statsmodels.tsa.stattools import grangercausalitytests, q_stat\n",
    "import tad"
   ]
  },
  {
   "cell_type": "code",
   "execution_count": 2,
   "metadata": {},
   "outputs": [],
   "source": [
    "df_hourly_bike = pd.read_parquet(\"../data/processed/divvy-hourly-count.parquet\")\n",
    "df_daily_bike = pd.read_parquet(\"../data/processed/divvy-daily-count.parquet\")"
   ]
  },
  {
   "cell_type": "code",
   "execution_count": 3,
   "metadata": {},
   "outputs": [],
   "source": [
    "df_hourly_bike.loc[:, \"datetime\"] = pd.to_datetime(\n",
    "    df_hourly_bike.year.astype(\"str\")\n",
    "    + \"-\"\n",
    "    + df_hourly_bike.month.astype(\"str\")\n",
    "    + \"-\"\n",
    "    + df_hourly_bike.day.astype(\"str\")\n",
    "    + \" \"\n",
    "    + df_hourly_bike.hour.astype(\"str\")\n",
    "    + \":00\"\n",
    ")\n",
    "df_hourly_bike.loc[:, \"datetime_tz\"] = df_hourly_bike.datetime.apply(\n",
    "    lambda x: x.tz_localize(\"GMT\")\n",
    ")"
   ]
  },
  {
   "cell_type": "code",
   "execution_count": 4,
   "metadata": {},
   "outputs": [],
   "source": [
    "df_daily_bike.loc[:, \"datetime\"] = pd.to_datetime(\n",
    "    df_daily_bike.year.astype(\"str\")\n",
    "    + \"-\"\n",
    "    + df_daily_bike.month.astype(\"str\")\n",
    "    + \"-\"\n",
    "    + df_daily_bike.day.astype(\"str\")\n",
    ")\n",
    "df_daily_bike.loc[:, \"datetime_tz\"] = df_daily_bike.datetime.apply(\n",
    "    lambda x: x.tz_localize(\"GMT\")\n",
    ")"
   ]
  },
  {
   "cell_type": "code",
   "execution_count": 18,
   "metadata": {},
   "outputs": [
    {
     "data": {
      "text/plain": [
       "DatetimeIndex(['2020-04-01 00:00:00', '2020-04-01 01:00:00',\n",
       "               '2020-04-01 02:00:00', '2020-04-01 03:00:00',\n",
       "               '2020-04-01 04:00:00', '2020-04-01 05:00:00',\n",
       "               '2020-04-01 06:00:00', '2020-04-01 07:00:00',\n",
       "               '2020-04-01 08:00:00', '2020-04-01 09:00:00',\n",
       "               ...\n",
       "               '2024-03-31 14:00:00', '2024-03-31 15:00:00',\n",
       "               '2024-03-31 16:00:00', '2024-03-31 17:00:00',\n",
       "               '2024-03-31 18:00:00', '2024-03-31 19:00:00',\n",
       "               '2024-03-31 20:00:00', '2024-03-31 21:00:00',\n",
       "               '2024-03-31 22:00:00', '2024-03-31 23:00:00'],\n",
       "              dtype='datetime64[ns]', name='datetime', length=34931, freq=None)"
      ]
     },
     "execution_count": 18,
     "metadata": {},
     "output_type": "execute_result"
    }
   ],
   "source": [
    "df_hourly_bike.set_index(\"datetime\").sort_index().loc[:, \"count\"].index"
   ]
  },
  {
   "cell_type": "code",
   "execution_count": 19,
   "metadata": {},
   "outputs": [
    {
     "ename": "TypeError",
     "evalue": "seasonal_decompose() got an unexpected keyword argument 'freq'",
     "output_type": "error",
     "traceback": [
      "\u001b[0;31m---------------------------------------------------------------------------\u001b[0m",
      "\u001b[0;31mTypeError\u001b[0m                                 Traceback (most recent call last)",
      "Cell \u001b[0;32mIn[19], line 1\u001b[0m\n\u001b[0;32m----> 1\u001b[0m \u001b[43mtad\u001b[49m\u001b[38;5;241;43m.\u001b[39;49m\u001b[43manomaly_detect_ts\u001b[49m\u001b[43m(\u001b[49m\n\u001b[1;32m      2\u001b[0m \u001b[43m    \u001b[49m\u001b[43mdf_hourly_bike\u001b[49m\u001b[38;5;241;43m.\u001b[39;49m\u001b[43mset_index\u001b[49m\u001b[43m(\u001b[49m\u001b[38;5;124;43m\"\u001b[39;49m\u001b[38;5;124;43mdatetime\u001b[39;49m\u001b[38;5;124;43m\"\u001b[39;49m\u001b[43m)\u001b[49m\u001b[38;5;241;43m.\u001b[39;49m\u001b[43msort_index\u001b[49m\u001b[43m(\u001b[49m\u001b[43m)\u001b[49m\u001b[38;5;241;43m.\u001b[39;49m\u001b[43mloc\u001b[49m\u001b[43m[\u001b[49m\u001b[43m:\u001b[49m\u001b[43m,\u001b[49m\u001b[43m \u001b[49m\u001b[38;5;124;43m\"\u001b[39;49m\u001b[38;5;124;43mcount\u001b[39;49m\u001b[38;5;124;43m\"\u001b[39;49m\u001b[43m]\u001b[49m\n\u001b[1;32m      3\u001b[0m \u001b[43m)\u001b[49m\n",
      "File \u001b[0;32m~/Documents/chi-bike-forecast/.venv/lib/python3.11/site-packages/tad/anomaly_detect_ts.py:455\u001b[0m, in \u001b[0;36manomaly_detect_ts\u001b[0;34m(x, max_anoms, direction, alpha, only_last, threshold, e_value, longterm, piecewise_median_period_weeks, plot, y_log, xlabel, ylabel, title, verbose, dropna, resampling, period_override)\u001b[0m\n\u001b[1;32m    453\u001b[0m \u001b[38;5;66;03m# Detect anomalies on all data (either entire data in one-pass, or in 2 week blocks if longterm=True)\u001b[39;00m\n\u001b[1;32m    454\u001b[0m \u001b[38;5;28;01mfor\u001b[39;00m series \u001b[38;5;129;01min\u001b[39;00m all_data:\n\u001b[0;32m--> 455\u001b[0m     shesd \u001b[38;5;241m=\u001b[39m \u001b[43m_detect_anoms\u001b[49m\u001b[43m(\u001b[49m\u001b[43mseries\u001b[49m\u001b[43m,\u001b[49m\u001b[43m \u001b[49m\u001b[43mk\u001b[49m\u001b[38;5;241;43m=\u001b[39;49m\u001b[43mmax_anoms\u001b[49m\u001b[43m,\u001b[49m\u001b[43m \u001b[49m\u001b[43malpha\u001b[49m\u001b[38;5;241;43m=\u001b[39;49m\u001b[43malpha\u001b[49m\u001b[43m,\u001b[49m\u001b[43m \u001b[49m\u001b[43mnum_obs_per_period\u001b[49m\u001b[38;5;241;43m=\u001b[39;49m\u001b[43mperiod\u001b[49m\u001b[43m,\u001b[49m\u001b[43m \u001b[49m\u001b[43muse_decomp\u001b[49m\u001b[38;5;241;43m=\u001b[39;49m\u001b[38;5;28;43;01mTrue\u001b[39;49;00m\u001b[43m,\u001b[49m\n\u001b[1;32m    456\u001b[0m \u001b[43m                          \u001b[49m\u001b[43muse_esd\u001b[49m\u001b[38;5;241;43m=\u001b[39;49m\u001b[38;5;28;43;01mFalse\u001b[39;49;00m\u001b[43m,\u001b[49m\u001b[43m \u001b[49m\u001b[43mdirection\u001b[49m\u001b[38;5;241;43m=\u001b[39;49m\u001b[43mdirection\u001b[49m\u001b[43m,\u001b[49m\u001b[43m \u001b[49m\u001b[43mverbose\u001b[49m\u001b[38;5;241;43m=\u001b[39;49m\u001b[43mverbose\u001b[49m\u001b[43m)\u001b[49m\n\u001b[1;32m    457\u001b[0m     shesd_anoms \u001b[38;5;241m=\u001b[39m shesd[\u001b[38;5;124m'\u001b[39m\u001b[38;5;124manoms\u001b[39m\u001b[38;5;124m'\u001b[39m]\n\u001b[1;32m    458\u001b[0m     shesd_stl \u001b[38;5;241m=\u001b[39m shesd[\u001b[38;5;124m'\u001b[39m\u001b[38;5;124mstl\u001b[39m\u001b[38;5;124m'\u001b[39m]\n",
      "File \u001b[0;32m~/Documents/chi-bike-forecast/.venv/lib/python3.11/site-packages/tad/anomaly_detect_ts.py:543\u001b[0m, in \u001b[0;36m_detect_anoms\u001b[0;34m(data, k, alpha, num_obs_per_period, use_decomp, use_esd, direction, verbose)\u001b[0m\n\u001b[1;32m    535\u001b[0m upper_tail \u001b[38;5;241m=\u001b[39m \u001b[38;5;28;01mTrue\u001b[39;00m \u001b[38;5;28;01mif\u001b[39;00m direction \u001b[38;5;129;01min\u001b[39;00m [\u001b[38;5;124m'\u001b[39m\u001b[38;5;124mpos\u001b[39m\u001b[38;5;124m'\u001b[39m, \u001b[38;5;124m'\u001b[39m\u001b[38;5;124mboth\u001b[39m\u001b[38;5;124m'\u001b[39m] \u001b[38;5;28;01melse\u001b[39;00m \u001b[38;5;28;01mFalse\u001b[39;00m\n\u001b[1;32m    537\u001b[0m \u001b[38;5;66;03m# -- Step 1: Decompose data. This returns a univariate remainder which will be used for anomaly detection. Optionally, we might NOT decompose.\u001b[39;00m\n\u001b[1;32m    538\u001b[0m \u001b[38;5;66;03m# Note: R use stl, but here we will use MA, the result may be different TODO.. Here need improvement\u001b[39;00m\n\u001b[1;32m    539\u001b[0m \u001b[38;5;66;03m#decomposed = sm.tsa.seasonal_decompose(data, freq=num_obs_per_period, two_sided=False)\u001b[39;00m\n\u001b[1;32m    540\u001b[0m \u001b[38;5;66;03m#smoothed = data - decomposed.resid.fillna(0)\u001b[39;00m\n\u001b[1;32m    541\u001b[0m \u001b[38;5;66;03m#data = data - decomposed.seasonal - data.mean()\u001b[39;00m\n\u001b[0;32m--> 543\u001b[0m data, smoothed \u001b[38;5;241m=\u001b[39m \u001b[43m_get_decomposed_data_tuple\u001b[49m\u001b[43m(\u001b[49m\u001b[43mdata\u001b[49m\u001b[43m,\u001b[49m\u001b[43m \u001b[49m\u001b[43mnum_obs_per_period\u001b[49m\u001b[43m)\u001b[49m\n\u001b[1;32m    545\u001b[0m max_outliers \u001b[38;5;241m=\u001b[39m _get_max_outliers(data, k)\n\u001b[1;32m    547\u001b[0m R_idx \u001b[38;5;241m=\u001b[39m pd\u001b[38;5;241m.\u001b[39mSeries()\n",
      "File \u001b[0;32m~/Documents/chi-bike-forecast/.venv/lib/python3.11/site-packages/tad/anomaly_detect_ts.py:411\u001b[0m, in \u001b[0;36m_get_decomposed_data_tuple\u001b[0;34m(data, num_obs_per_period)\u001b[0m\n\u001b[1;32m    402\u001b[0m \u001b[38;5;28;01mdef\u001b[39;00m \u001b[38;5;21m_get_decomposed_data_tuple\u001b[39m(data, num_obs_per_period):\n\u001b[1;32m    403\u001b[0m \u001b[38;5;250m    \u001b[39m\u001b[38;5;124;03m\"\"\"\u001b[39;00m\n\u001b[1;32m    404\u001b[0m \u001b[38;5;124;03m    Returns a tuple consisting of two versions of the input data set: seasonally-decomposed and smoothed\u001b[39;00m\n\u001b[1;32m    405\u001b[0m \n\u001b[0;32m   (...)\u001b[0m\n\u001b[1;32m    409\u001b[0m \u001b[38;5;124;03m        the number of observations in each period\u001b[39;00m\n\u001b[1;32m    410\u001b[0m \u001b[38;5;124;03m    \"\"\"\u001b[39;00m\n\u001b[0;32m--> 411\u001b[0m     decomposed \u001b[38;5;241m=\u001b[39m \u001b[43msm\u001b[49m\u001b[38;5;241;43m.\u001b[39;49m\u001b[43mtsa\u001b[49m\u001b[38;5;241;43m.\u001b[39;49m\u001b[43mseasonal_decompose\u001b[49m\u001b[43m(\u001b[49m\n\u001b[1;32m    412\u001b[0m \u001b[43m        \u001b[49m\u001b[43mdata\u001b[49m\u001b[43m,\u001b[49m\u001b[43m \u001b[49m\u001b[43mfreq\u001b[49m\u001b[38;5;241;43m=\u001b[39;49m\u001b[43mnum_obs_per_period\u001b[49m\u001b[43m,\u001b[49m\u001b[43m \u001b[49m\u001b[43mtwo_sided\u001b[49m\u001b[38;5;241;43m=\u001b[39;49m\u001b[38;5;28;43;01mFalse\u001b[39;49;00m\u001b[43m)\u001b[49m\n\u001b[1;32m    413\u001b[0m     smoothed \u001b[38;5;241m=\u001b[39m data \u001b[38;5;241m-\u001b[39m decomposed\u001b[38;5;241m.\u001b[39mresid\u001b[38;5;241m.\u001b[39mfillna(\u001b[38;5;241m0\u001b[39m)\n\u001b[1;32m    414\u001b[0m     data \u001b[38;5;241m=\u001b[39m data \u001b[38;5;241m-\u001b[39m decomposed\u001b[38;5;241m.\u001b[39mseasonal \u001b[38;5;241m-\u001b[39m data\u001b[38;5;241m.\u001b[39mmean()\n",
      "\u001b[0;31mTypeError\u001b[0m: seasonal_decompose() got an unexpected keyword argument 'freq'"
     ]
    }
   ],
   "source": [
    "tad.anomaly_detect_ts(df_hourly_bike.set_index(\"datetime\").sort_index().loc[:, \"count\"])"
   ]
  },
  {
   "cell_type": "code",
   "execution_count": null,
   "metadata": {},
   "outputs": [],
   "source": []
  }
 ],
 "metadata": {
  "kernelspec": {
   "display_name": ".venv",
   "language": "python",
   "name": "python3"
  },
  "language_info": {
   "codemirror_mode": {
    "name": "ipython",
    "version": 3
   },
   "file_extension": ".py",
   "mimetype": "text/x-python",
   "name": "python",
   "nbconvert_exporter": "python",
   "pygments_lexer": "ipython3",
   "version": "3.11.7"
  }
 },
 "nbformat": 4,
 "nbformat_minor": 2
}
